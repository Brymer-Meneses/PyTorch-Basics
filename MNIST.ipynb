{
  "nbformat": 4,
  "nbformat_minor": 0,
  "metadata": {
    "colab": {
      "name": "MNIST.ipynb",
      "provenance": [],
      "collapsed_sections": [],
      "authorship_tag": "ABX9TyMfa1DF25ToDJR7cAU7W/hh",
      "include_colab_link": true
    },
    "kernelspec": {
      "name": "python3",
      "display_name": "Python 3"
    }
  },
  "cells": [
    {
      "cell_type": "markdown",
      "metadata": {
        "id": "view-in-github",
        "colab_type": "text"
      },
      "source": [
        "<a href=\"https://colab.research.google.com/github/Brymer-Meneses/PyTorch-Basics/blob/master/MNIST.ipynb\" target=\"_parent\"><img src=\"https://colab.research.google.com/assets/colab-badge.svg\" alt=\"Open In Colab\"/></a>"
      ]
    },
    {
      "cell_type": "code",
      "metadata": {
        "id": "BowZOCyNj0HV"
      },
      "source": [
        "import torch, torchvision\n",
        "from torch import nn, optim\n",
        "from torch.autograd import Variable"
      ],
      "execution_count": 1,
      "outputs": []
    },
    {
      "cell_type": "code",
      "metadata": {
        "id": "MjhQ-wAZj7Th"
      },
      "source": [
        "T = torchvision.transforms.Compose([torchvision.transforms.ToTensor()])\n",
        "mnist_data = torchvision.datasets.MNIST('mnist_data',transform = T, download = True)\n",
        "mnist_dataloader = torch.utils.data.DataLoader(mnist_data, batch_size = 128)"
      ],
      "execution_count": 2,
      "outputs": []
    },
    {
      "cell_type": "code",
      "metadata": {
        "id": "uLb0OWXgkRrp"
      },
      "source": [
        "class Mnet(nn.Module):\n",
        "  def __init__(self):\n",
        "    super(Mnet, self).__init__()\n",
        "    self.linear1 = nn.Linear(28*28, 100)\n",
        "    self.linear2 = nn.Linear(100, 50)\n",
        "    self.final_linear = nn.Linear(50, 10)\n",
        "\n",
        "    self.relu = nn.ReLU()\n",
        "\n",
        "  def forward(self, images):\n",
        "    x = images.view(-1, 28*28)\n",
        "    x = self.relu(self.linear1(x))\n",
        "    x = self.relu(self.linear2(x))\n",
        "    x = self.final_linear(x)\n",
        "    return x\n"
      ],
      "execution_count": 3,
      "outputs": []
    },
    {
      "cell_type": "code",
      "metadata": {
        "id": "sT--vdgCmSbz"
      },
      "source": [
        "model = Mnet()\n",
        "cec_loss = nn.CrossEntropyLoss()\n",
        "params = model.parameters()\n",
        "optimizer = optim.Adam(params = params, lr = 0.001)\n",
        "\n",
        "n_epochs = 3\n",
        "n_iterations = 0\n"
      ],
      "execution_count": 4,
      "outputs": []
    },
    {
      "cell_type": "code",
      "metadata": {
        "id": "mOL4mfbUkkuU",
        "outputId": "98d7bb4e-9878-4def-98e4-a029662e8dcc",
        "colab": {
          "base_uri": "https://localhost:8080/"
        }
      },
      "source": [
        "losses = []\n",
        "for e in range(n_epochs):\n",
        "  counter = 0\n",
        "  for i, (images, labels) in enumerate(mnist_dataloader):\n",
        "    images = Variable(images)\n",
        "    labels = Variable(labels)\n",
        "    output = model(images)\n",
        "\n",
        "    model.zero_grad()\n",
        "    loss = cec_loss(output, labels)\n",
        "    loss.backward()\n",
        "\n",
        "    optimizer.step()\n",
        "    n_iterations +=1 \n",
        "    counter += 1\n",
        "\n",
        "    if counter % 100 == 0:\n",
        "      print(loss.item())\n",
        "\n"
      ],
      "execution_count": 5,
      "outputs": [
        {
          "output_type": "stream",
          "text": [
            "0.5246292948722839\n",
            "0.32591506838798523\n",
            "0.37941956520080566\n",
            "0.22251193225383759\n",
            "0.35091865062713623\n",
            "0.2645525336265564\n",
            "0.2641158103942871\n",
            "0.14340421557426453\n",
            "0.2995487451553345\n",
            "0.22210970520973206\n",
            "0.21234802901744843\n",
            "0.0983295887708664\n"
          ],
          "name": "stdout"
        }
      ]
    }
  ]
}