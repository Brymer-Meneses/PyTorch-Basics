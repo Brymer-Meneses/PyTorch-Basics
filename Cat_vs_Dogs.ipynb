{
  "nbformat": 4,
  "nbformat_minor": 0,
  "metadata": {
    "colab": {
      "name": "PyTorch-CvD.ipynb",
      "provenance": [],
      "toc_visible": true,
      "mount_file_id": "1It9R0KRTm94D6NwzROsl1auSquB5LEX0",
      "authorship_tag": "ABX9TyMW8BJ41MU2fgyLzNRwni3f",
      "include_colab_link": true
    },
    "kernelspec": {
      "name": "python3",
      "display_name": "Python 3"
    },
    "accelerator": "GPU",
    "widgets": {
      "application/vnd.jupyter.widget-state+json": {
        "dc4cdb47f4fd4d48a7bd985c639c56e4": {
          "model_module": "@jupyter-widgets/controls",
          "model_name": "HBoxModel",
          "state": {
            "_view_name": "HBoxView",
            "_dom_classes": [],
            "_model_name": "HBoxModel",
            "_view_module": "@jupyter-widgets/controls",
            "_model_module_version": "1.5.0",
            "_view_count": null,
            "_view_module_version": "1.5.0",
            "box_style": "",
            "layout": "IPY_MODEL_42fe76c0e08e405a958f5d59e63c5029",
            "_model_module": "@jupyter-widgets/controls",
            "children": [
              "IPY_MODEL_0c7cda35a1864a509b1195af15bc78da",
              "IPY_MODEL_fda468db144645a5879627ecd069e031"
            ]
          }
        },
        "42fe76c0e08e405a958f5d59e63c5029": {
          "model_module": "@jupyter-widgets/base",
          "model_name": "LayoutModel",
          "state": {
            "_view_name": "LayoutView",
            "grid_template_rows": null,
            "right": null,
            "justify_content": null,
            "_view_module": "@jupyter-widgets/base",
            "overflow": null,
            "_model_module_version": "1.2.0",
            "_view_count": null,
            "flex_flow": null,
            "width": null,
            "min_width": null,
            "border": null,
            "align_items": null,
            "bottom": null,
            "_model_module": "@jupyter-widgets/base",
            "top": null,
            "grid_column": null,
            "overflow_y": null,
            "overflow_x": null,
            "grid_auto_flow": null,
            "grid_area": null,
            "grid_template_columns": null,
            "flex": null,
            "_model_name": "LayoutModel",
            "justify_items": null,
            "grid_row": null,
            "max_height": null,
            "align_content": null,
            "visibility": null,
            "align_self": null,
            "height": null,
            "min_height": null,
            "padding": null,
            "grid_auto_rows": null,
            "grid_gap": null,
            "max_width": null,
            "order": null,
            "_view_module_version": "1.2.0",
            "grid_template_areas": null,
            "object_position": null,
            "object_fit": null,
            "grid_auto_columns": null,
            "margin": null,
            "display": null,
            "left": null
          }
        },
        "0c7cda35a1864a509b1195af15bc78da": {
          "model_module": "@jupyter-widgets/controls",
          "model_name": "FloatProgressModel",
          "state": {
            "_view_name": "ProgressView",
            "style": "IPY_MODEL_8dde4d4b26994cf696ff7fc3fa50c921",
            "_dom_classes": [],
            "description": "Epoch [0/3]: 100%",
            "_model_name": "FloatProgressModel",
            "bar_style": "success",
            "max": 313,
            "_view_module": "@jupyter-widgets/controls",
            "_model_module_version": "1.5.0",
            "value": 313,
            "_view_count": null,
            "_view_module_version": "1.5.0",
            "orientation": "horizontal",
            "min": 0,
            "description_tooltip": null,
            "_model_module": "@jupyter-widgets/controls",
            "layout": "IPY_MODEL_bcf658ba6f0b4dd89648a4d40967972c"
          }
        },
        "fda468db144645a5879627ecd069e031": {
          "model_module": "@jupyter-widgets/controls",
          "model_name": "HTMLModel",
          "state": {
            "_view_name": "HTMLView",
            "style": "IPY_MODEL_3e55a89035d54f219ca7908d0c78ece3",
            "_dom_classes": [],
            "description": "",
            "_model_name": "HTMLModel",
            "placeholder": "​",
            "_view_module": "@jupyter-widgets/controls",
            "_model_module_version": "1.5.0",
            "value": " 313/313 [28:09&lt;00:00,  5.40s/it, acc=67.2, loss=0.596]",
            "_view_count": null,
            "_view_module_version": "1.5.0",
            "description_tooltip": null,
            "_model_module": "@jupyter-widgets/controls",
            "layout": "IPY_MODEL_0f71e546facd4d859578e7244aec693b"
          }
        },
        "8dde4d4b26994cf696ff7fc3fa50c921": {
          "model_module": "@jupyter-widgets/controls",
          "model_name": "ProgressStyleModel",
          "state": {
            "_view_name": "StyleView",
            "_model_name": "ProgressStyleModel",
            "description_width": "initial",
            "_view_module": "@jupyter-widgets/base",
            "_model_module_version": "1.5.0",
            "_view_count": null,
            "_view_module_version": "1.2.0",
            "bar_color": null,
            "_model_module": "@jupyter-widgets/controls"
          }
        },
        "bcf658ba6f0b4dd89648a4d40967972c": {
          "model_module": "@jupyter-widgets/base",
          "model_name": "LayoutModel",
          "state": {
            "_view_name": "LayoutView",
            "grid_template_rows": null,
            "right": null,
            "justify_content": null,
            "_view_module": "@jupyter-widgets/base",
            "overflow": null,
            "_model_module_version": "1.2.0",
            "_view_count": null,
            "flex_flow": null,
            "width": null,
            "min_width": null,
            "border": null,
            "align_items": null,
            "bottom": null,
            "_model_module": "@jupyter-widgets/base",
            "top": null,
            "grid_column": null,
            "overflow_y": null,
            "overflow_x": null,
            "grid_auto_flow": null,
            "grid_area": null,
            "grid_template_columns": null,
            "flex": null,
            "_model_name": "LayoutModel",
            "justify_items": null,
            "grid_row": null,
            "max_height": null,
            "align_content": null,
            "visibility": null,
            "align_self": null,
            "height": null,
            "min_height": null,
            "padding": null,
            "grid_auto_rows": null,
            "grid_gap": null,
            "max_width": null,
            "order": null,
            "_view_module_version": "1.2.0",
            "grid_template_areas": null,
            "object_position": null,
            "object_fit": null,
            "grid_auto_columns": null,
            "margin": null,
            "display": null,
            "left": null
          }
        },
        "3e55a89035d54f219ca7908d0c78ece3": {
          "model_module": "@jupyter-widgets/controls",
          "model_name": "DescriptionStyleModel",
          "state": {
            "_view_name": "StyleView",
            "_model_name": "DescriptionStyleModel",
            "description_width": "",
            "_view_module": "@jupyter-widgets/base",
            "_model_module_version": "1.5.0",
            "_view_count": null,
            "_view_module_version": "1.2.0",
            "_model_module": "@jupyter-widgets/controls"
          }
        },
        "0f71e546facd4d859578e7244aec693b": {
          "model_module": "@jupyter-widgets/base",
          "model_name": "LayoutModel",
          "state": {
            "_view_name": "LayoutView",
            "grid_template_rows": null,
            "right": null,
            "justify_content": null,
            "_view_module": "@jupyter-widgets/base",
            "overflow": null,
            "_model_module_version": "1.2.0",
            "_view_count": null,
            "flex_flow": null,
            "width": null,
            "min_width": null,
            "border": null,
            "align_items": null,
            "bottom": null,
            "_model_module": "@jupyter-widgets/base",
            "top": null,
            "grid_column": null,
            "overflow_y": null,
            "overflow_x": null,
            "grid_auto_flow": null,
            "grid_area": null,
            "grid_template_columns": null,
            "flex": null,
            "_model_name": "LayoutModel",
            "justify_items": null,
            "grid_row": null,
            "max_height": null,
            "align_content": null,
            "visibility": null,
            "align_self": null,
            "height": null,
            "min_height": null,
            "padding": null,
            "grid_auto_rows": null,
            "grid_gap": null,
            "max_width": null,
            "order": null,
            "_view_module_version": "1.2.0",
            "grid_template_areas": null,
            "object_position": null,
            "object_fit": null,
            "grid_auto_columns": null,
            "margin": null,
            "display": null,
            "left": null
          }
        },
        "224f034327814a6d9e704f03d6e20ea1": {
          "model_module": "@jupyter-widgets/controls",
          "model_name": "HBoxModel",
          "state": {
            "_view_name": "HBoxView",
            "_dom_classes": [],
            "_model_name": "HBoxModel",
            "_view_module": "@jupyter-widgets/controls",
            "_model_module_version": "1.5.0",
            "_view_count": null,
            "_view_module_version": "1.5.0",
            "box_style": "",
            "layout": "IPY_MODEL_017d0526d2e54873bd93f89fe7728752",
            "_model_module": "@jupyter-widgets/controls",
            "children": [
              "IPY_MODEL_9db45894c90b4741a2eea8fa07d64199",
              "IPY_MODEL_cedd1d4860914aea92bf3ca7866a7dac"
            ]
          }
        },
        "017d0526d2e54873bd93f89fe7728752": {
          "model_module": "@jupyter-widgets/base",
          "model_name": "LayoutModel",
          "state": {
            "_view_name": "LayoutView",
            "grid_template_rows": null,
            "right": null,
            "justify_content": null,
            "_view_module": "@jupyter-widgets/base",
            "overflow": null,
            "_model_module_version": "1.2.0",
            "_view_count": null,
            "flex_flow": null,
            "width": null,
            "min_width": null,
            "border": null,
            "align_items": null,
            "bottom": null,
            "_model_module": "@jupyter-widgets/base",
            "top": null,
            "grid_column": null,
            "overflow_y": null,
            "overflow_x": null,
            "grid_auto_flow": null,
            "grid_area": null,
            "grid_template_columns": null,
            "flex": null,
            "_model_name": "LayoutModel",
            "justify_items": null,
            "grid_row": null,
            "max_height": null,
            "align_content": null,
            "visibility": null,
            "align_self": null,
            "height": null,
            "min_height": null,
            "padding": null,
            "grid_auto_rows": null,
            "grid_gap": null,
            "max_width": null,
            "order": null,
            "_view_module_version": "1.2.0",
            "grid_template_areas": null,
            "object_position": null,
            "object_fit": null,
            "grid_auto_columns": null,
            "margin": null,
            "display": null,
            "left": null
          }
        },
        "9db45894c90b4741a2eea8fa07d64199": {
          "model_module": "@jupyter-widgets/controls",
          "model_name": "FloatProgressModel",
          "state": {
            "_view_name": "ProgressView",
            "style": "IPY_MODEL_3b61fa17f2af404a9e65de593b0ad376",
            "_dom_classes": [],
            "description": "Epoch [1/3]: 100%",
            "_model_name": "FloatProgressModel",
            "bar_style": "success",
            "max": 313,
            "_view_module": "@jupyter-widgets/controls",
            "_model_module_version": "1.5.0",
            "value": 313,
            "_view_count": null,
            "_view_module_version": "1.5.0",
            "orientation": "horizontal",
            "min": 0,
            "description_tooltip": null,
            "_model_module": "@jupyter-widgets/controls",
            "layout": "IPY_MODEL_87e30b73060f4ad88a35e5dd2c0430e8"
          }
        },
        "cedd1d4860914aea92bf3ca7866a7dac": {
          "model_module": "@jupyter-widgets/controls",
          "model_name": "HTMLModel",
          "state": {
            "_view_name": "HTMLView",
            "style": "IPY_MODEL_99a9e48dc1054e0f8b000a2e8b20fe08",
            "_dom_classes": [],
            "description": "",
            "_model_name": "HTMLModel",
            "placeholder": "​",
            "_view_module": "@jupyter-widgets/controls",
            "_model_module_version": "1.5.0",
            "value": " 313/313 [23:53&lt;00:00,  4.58s/it, acc=79.7, loss=0.388]",
            "_view_count": null,
            "_view_module_version": "1.5.0",
            "description_tooltip": null,
            "_model_module": "@jupyter-widgets/controls",
            "layout": "IPY_MODEL_284d211b5dbb42ed9a561d59d09e124f"
          }
        },
        "3b61fa17f2af404a9e65de593b0ad376": {
          "model_module": "@jupyter-widgets/controls",
          "model_name": "ProgressStyleModel",
          "state": {
            "_view_name": "StyleView",
            "_model_name": "ProgressStyleModel",
            "description_width": "initial",
            "_view_module": "@jupyter-widgets/base",
            "_model_module_version": "1.5.0",
            "_view_count": null,
            "_view_module_version": "1.2.0",
            "bar_color": null,
            "_model_module": "@jupyter-widgets/controls"
          }
        },
        "87e30b73060f4ad88a35e5dd2c0430e8": {
          "model_module": "@jupyter-widgets/base",
          "model_name": "LayoutModel",
          "state": {
            "_view_name": "LayoutView",
            "grid_template_rows": null,
            "right": null,
            "justify_content": null,
            "_view_module": "@jupyter-widgets/base",
            "overflow": null,
            "_model_module_version": "1.2.0",
            "_view_count": null,
            "flex_flow": null,
            "width": null,
            "min_width": null,
            "border": null,
            "align_items": null,
            "bottom": null,
            "_model_module": "@jupyter-widgets/base",
            "top": null,
            "grid_column": null,
            "overflow_y": null,
            "overflow_x": null,
            "grid_auto_flow": null,
            "grid_area": null,
            "grid_template_columns": null,
            "flex": null,
            "_model_name": "LayoutModel",
            "justify_items": null,
            "grid_row": null,
            "max_height": null,
            "align_content": null,
            "visibility": null,
            "align_self": null,
            "height": null,
            "min_height": null,
            "padding": null,
            "grid_auto_rows": null,
            "grid_gap": null,
            "max_width": null,
            "order": null,
            "_view_module_version": "1.2.0",
            "grid_template_areas": null,
            "object_position": null,
            "object_fit": null,
            "grid_auto_columns": null,
            "margin": null,
            "display": null,
            "left": null
          }
        },
        "99a9e48dc1054e0f8b000a2e8b20fe08": {
          "model_module": "@jupyter-widgets/controls",
          "model_name": "DescriptionStyleModel",
          "state": {
            "_view_name": "StyleView",
            "_model_name": "DescriptionStyleModel",
            "description_width": "",
            "_view_module": "@jupyter-widgets/base",
            "_model_module_version": "1.5.0",
            "_view_count": null,
            "_view_module_version": "1.2.0",
            "_model_module": "@jupyter-widgets/controls"
          }
        },
        "284d211b5dbb42ed9a561d59d09e124f": {
          "model_module": "@jupyter-widgets/base",
          "model_name": "LayoutModel",
          "state": {
            "_view_name": "LayoutView",
            "grid_template_rows": null,
            "right": null,
            "justify_content": null,
            "_view_module": "@jupyter-widgets/base",
            "overflow": null,
            "_model_module_version": "1.2.0",
            "_view_count": null,
            "flex_flow": null,
            "width": null,
            "min_width": null,
            "border": null,
            "align_items": null,
            "bottom": null,
            "_model_module": "@jupyter-widgets/base",
            "top": null,
            "grid_column": null,
            "overflow_y": null,
            "overflow_x": null,
            "grid_auto_flow": null,
            "grid_area": null,
            "grid_template_columns": null,
            "flex": null,
            "_model_name": "LayoutModel",
            "justify_items": null,
            "grid_row": null,
            "max_height": null,
            "align_content": null,
            "visibility": null,
            "align_self": null,
            "height": null,
            "min_height": null,
            "padding": null,
            "grid_auto_rows": null,
            "grid_gap": null,
            "max_width": null,
            "order": null,
            "_view_module_version": "1.2.0",
            "grid_template_areas": null,
            "object_position": null,
            "object_fit": null,
            "grid_auto_columns": null,
            "margin": null,
            "display": null,
            "left": null
          }
        },
        "65bf8a630cab4d56aee02899bf29461c": {
          "model_module": "@jupyter-widgets/controls",
          "model_name": "HBoxModel",
          "state": {
            "_view_name": "HBoxView",
            "_dom_classes": [],
            "_model_name": "HBoxModel",
            "_view_module": "@jupyter-widgets/controls",
            "_model_module_version": "1.5.0",
            "_view_count": null,
            "_view_module_version": "1.5.0",
            "box_style": "",
            "layout": "IPY_MODEL_297621e61ac2416f8d99a739f5402406",
            "_model_module": "@jupyter-widgets/controls",
            "children": [
              "IPY_MODEL_a40f53c0f79c4217b0ff2bcdf9cc460a",
              "IPY_MODEL_20bf37a43ce147baa4d8d0d5d3bbcf28"
            ]
          }
        },
        "297621e61ac2416f8d99a739f5402406": {
          "model_module": "@jupyter-widgets/base",
          "model_name": "LayoutModel",
          "state": {
            "_view_name": "LayoutView",
            "grid_template_rows": null,
            "right": null,
            "justify_content": null,
            "_view_module": "@jupyter-widgets/base",
            "overflow": null,
            "_model_module_version": "1.2.0",
            "_view_count": null,
            "flex_flow": null,
            "width": null,
            "min_width": null,
            "border": null,
            "align_items": null,
            "bottom": null,
            "_model_module": "@jupyter-widgets/base",
            "top": null,
            "grid_column": null,
            "overflow_y": null,
            "overflow_x": null,
            "grid_auto_flow": null,
            "grid_area": null,
            "grid_template_columns": null,
            "flex": null,
            "_model_name": "LayoutModel",
            "justify_items": null,
            "grid_row": null,
            "max_height": null,
            "align_content": null,
            "visibility": null,
            "align_self": null,
            "height": null,
            "min_height": null,
            "padding": null,
            "grid_auto_rows": null,
            "grid_gap": null,
            "max_width": null,
            "order": null,
            "_view_module_version": "1.2.0",
            "grid_template_areas": null,
            "object_position": null,
            "object_fit": null,
            "grid_auto_columns": null,
            "margin": null,
            "display": null,
            "left": null
          }
        },
        "a40f53c0f79c4217b0ff2bcdf9cc460a": {
          "model_module": "@jupyter-widgets/controls",
          "model_name": "FloatProgressModel",
          "state": {
            "_view_name": "ProgressView",
            "style": "IPY_MODEL_2635f693957d43b9bce9618a78de5da8",
            "_dom_classes": [],
            "description": "Epoch [2/3]: 100%",
            "_model_name": "FloatProgressModel",
            "bar_style": "success",
            "max": 313,
            "_view_module": "@jupyter-widgets/controls",
            "_model_module_version": "1.5.0",
            "value": 313,
            "_view_count": null,
            "_view_module_version": "1.5.0",
            "orientation": "horizontal",
            "min": 0,
            "description_tooltip": null,
            "_model_module": "@jupyter-widgets/controls",
            "layout": "IPY_MODEL_b2a7cf9931e14be8bb3fd5797e2953d1"
          }
        },
        "20bf37a43ce147baa4d8d0d5d3bbcf28": {
          "model_module": "@jupyter-widgets/controls",
          "model_name": "HTMLModel",
          "state": {
            "_view_name": "HTMLView",
            "style": "IPY_MODEL_7a57f32575e4428e9604922f76e63ef5",
            "_dom_classes": [],
            "description": "",
            "_model_name": "HTMLModel",
            "placeholder": "​",
            "_view_module": "@jupyter-widgets/controls",
            "_model_module_version": "1.5.0",
            "value": " 313/313 [19:40&lt;00:00,  3.77s/it, acc=73.4, loss=0.455]",
            "_view_count": null,
            "_view_module_version": "1.5.0",
            "description_tooltip": null,
            "_model_module": "@jupyter-widgets/controls",
            "layout": "IPY_MODEL_05ca54ac1d9547e29094b08926a26d20"
          }
        },
        "2635f693957d43b9bce9618a78de5da8": {
          "model_module": "@jupyter-widgets/controls",
          "model_name": "ProgressStyleModel",
          "state": {
            "_view_name": "StyleView",
            "_model_name": "ProgressStyleModel",
            "description_width": "initial",
            "_view_module": "@jupyter-widgets/base",
            "_model_module_version": "1.5.0",
            "_view_count": null,
            "_view_module_version": "1.2.0",
            "bar_color": null,
            "_model_module": "@jupyter-widgets/controls"
          }
        },
        "b2a7cf9931e14be8bb3fd5797e2953d1": {
          "model_module": "@jupyter-widgets/base",
          "model_name": "LayoutModel",
          "state": {
            "_view_name": "LayoutView",
            "grid_template_rows": null,
            "right": null,
            "justify_content": null,
            "_view_module": "@jupyter-widgets/base",
            "overflow": null,
            "_model_module_version": "1.2.0",
            "_view_count": null,
            "flex_flow": null,
            "width": null,
            "min_width": null,
            "border": null,
            "align_items": null,
            "bottom": null,
            "_model_module": "@jupyter-widgets/base",
            "top": null,
            "grid_column": null,
            "overflow_y": null,
            "overflow_x": null,
            "grid_auto_flow": null,
            "grid_area": null,
            "grid_template_columns": null,
            "flex": null,
            "_model_name": "LayoutModel",
            "justify_items": null,
            "grid_row": null,
            "max_height": null,
            "align_content": null,
            "visibility": null,
            "align_self": null,
            "height": null,
            "min_height": null,
            "padding": null,
            "grid_auto_rows": null,
            "grid_gap": null,
            "max_width": null,
            "order": null,
            "_view_module_version": "1.2.0",
            "grid_template_areas": null,
            "object_position": null,
            "object_fit": null,
            "grid_auto_columns": null,
            "margin": null,
            "display": null,
            "left": null
          }
        },
        "7a57f32575e4428e9604922f76e63ef5": {
          "model_module": "@jupyter-widgets/controls",
          "model_name": "DescriptionStyleModel",
          "state": {
            "_view_name": "StyleView",
            "_model_name": "DescriptionStyleModel",
            "description_width": "",
            "_view_module": "@jupyter-widgets/base",
            "_model_module_version": "1.5.0",
            "_view_count": null,
            "_view_module_version": "1.2.0",
            "_model_module": "@jupyter-widgets/controls"
          }
        },
        "05ca54ac1d9547e29094b08926a26d20": {
          "model_module": "@jupyter-widgets/base",
          "model_name": "LayoutModel",
          "state": {
            "_view_name": "LayoutView",
            "grid_template_rows": null,
            "right": null,
            "justify_content": null,
            "_view_module": "@jupyter-widgets/base",
            "overflow": null,
            "_model_module_version": "1.2.0",
            "_view_count": null,
            "flex_flow": null,
            "width": null,
            "min_width": null,
            "border": null,
            "align_items": null,
            "bottom": null,
            "_model_module": "@jupyter-widgets/base",
            "top": null,
            "grid_column": null,
            "overflow_y": null,
            "overflow_x": null,
            "grid_auto_flow": null,
            "grid_area": null,
            "grid_template_columns": null,
            "flex": null,
            "_model_name": "LayoutModel",
            "justify_items": null,
            "grid_row": null,
            "max_height": null,
            "align_content": null,
            "visibility": null,
            "align_self": null,
            "height": null,
            "min_height": null,
            "padding": null,
            "grid_auto_rows": null,
            "grid_gap": null,
            "max_width": null,
            "order": null,
            "_view_module_version": "1.2.0",
            "grid_template_areas": null,
            "object_position": null,
            "object_fit": null,
            "grid_auto_columns": null,
            "margin": null,
            "display": null,
            "left": null
          }
        }
      }
    }
  },
  "cells": [
    {
      "cell_type": "markdown",
      "metadata": {
        "id": "view-in-github",
        "colab_type": "text"
      },
      "source": [
        "<a href=\"https://colab.research.google.com/github/Brymer-Meneses/PyTorch-Basics/blob/master/Cat_vs_Dogs.ipynb\" target=\"_parent\"><img src=\"https://colab.research.google.com/assets/colab-badge.svg\" alt=\"Open In Colab\"/></a>"
      ]
    },
    {
      "cell_type": "markdown",
      "metadata": {
        "id": "lcRi3YUTE1TQ"
      },
      "source": [
        "# Setup"
      ]
    },
    {
      "cell_type": "code",
      "metadata": {
        "id": "CIvmAoP-1ph0"
      },
      "source": [
        "import torch\n",
        "import torchvision\n",
        "from torchvision import transforms\n",
        "from torch import nn, optim\n",
        "from torch.autograd import Variable\n",
        "from torch.utils.data import DataLoader, Dataset\n",
        "import torch.nn.functional as F\n",
        "from torch.autograd import Variable\n",
        "\n",
        "import pandas as pd\n",
        "import os\n",
        "from zipfile import ZipFile\n",
        "from skimage import io\n",
        "\n",
        "import matplotlib.pyplot as plt\n",
        "import numpy as np\n",
        "from tqdm.notebook import tqdm"
      ],
      "execution_count": 38,
      "outputs": []
    },
    {
      "cell_type": "code",
      "metadata": {
        "id": "zaKjsYYQAYgD"
      },
      "source": [
        "os.environ['KAGGLE_CONFIG_DIR'] = \"/content/drive/My Drive/External Datasets/Kaggle\""
      ],
      "execution_count": 4,
      "outputs": []
    },
    {
      "cell_type": "code",
      "metadata": {
        "id": "JMPR5gThAbrH",
        "outputId": "047ad35a-ce9c-4651-9f0b-826b0bf33750",
        "colab": {
          "base_uri": "https://localhost:8080/"
        }
      },
      "source": [
        "!kaggle competitions download -c dogs-vs-cats"
      ],
      "execution_count": 5,
      "outputs": [
        {
          "output_type": "stream",
          "text": [
            "Warning: Looks like you're using an outdated API Version, please consider updating (server 1.5.9 / client 1.5.4)\n",
            "Downloading train.zip to /content\n",
            " 96% 522M/543M [00:04<00:00, 114MB/s] \n",
            "100% 543M/543M [00:04<00:00, 127MB/s]\n",
            "Downloading test1.zip to /content\n",
            "100% 270M/271M [00:02<00:00, 105MB/s]\n",
            "100% 271M/271M [00:02<00:00, 105MB/s]\n",
            "Downloading sampleSubmission.csv to /content\n",
            "  0% 0.00/86.8k [00:00<?, ?B/s]\n",
            "100% 86.8k/86.8k [00:00<00:00, 84.0MB/s]\n"
          ],
          "name": "stdout"
        }
      ]
    },
    {
      "cell_type": "code",
      "metadata": {
        "id": "AGkjXGk98znA"
      },
      "source": [
        "zip_path = '/content/train.zip'\n",
        "\n",
        "zip = ZipFile(zip_path, 'r')\n",
        "zip.extractall()"
      ],
      "execution_count": 6,
      "outputs": []
    },
    {
      "cell_type": "code",
      "metadata": {
        "id": "G_nIR8ss93J7"
      },
      "source": [
        "data = os.listdir('/content/train')\n",
        "ds = pd.DataFrame()\n",
        "ds['file'] = data"
      ],
      "execution_count": 7,
      "outputs": []
    },
    {
      "cell_type": "code",
      "metadata": {
        "id": "DElzjD4-CCMH"
      },
      "source": [
        "def classify(img):\n",
        "  if img.split('.')[0] == 'dog':\n",
        "    return 1\n",
        "  elif img.split('.')[0] == 'cat':\n",
        "    return 0"
      ],
      "execution_count": 8,
      "outputs": []
    },
    {
      "cell_type": "code",
      "metadata": {
        "id": "wIonxhmk_C-G"
      },
      "source": [
        "ds['target'] = list(map(classify, ds['file']))"
      ],
      "execution_count": 9,
      "outputs": []
    },
    {
      "cell_type": "code",
      "metadata": {
        "id": "gN8GSM1iD3Fe"
      },
      "source": [
        "ds.to_csv(r'/content/train.csv', index = False, header = False)"
      ],
      "execution_count": 11,
      "outputs": []
    },
    {
      "cell_type": "code",
      "metadata": {
        "id": "MMTPaGEsEw7r"
      },
      "source": [
        "# DataLoader\n",
        "\n",
        "class CatsAndDogsDataset(Dataset):\n",
        "  def __init__(self, csv_file, root_dir, transform = None):\n",
        "    self.annotations = pd.read_csv(csv_file)\n",
        "    self.root_dir = root_dir\n",
        "    self.transform = transform\n",
        "\n",
        "  def __len__(self):\n",
        "    return len(self.annotations) \n",
        "  \n",
        "  def __getitem__(self, index):\n",
        "   \n",
        "    img_path = os.path.join(self.root_dir, self.annotations.iloc[index, 0])\n",
        "    image = io.imread(img_path)\n",
        "    y_label = torch.tensor(int(self.annotations.iloc[index, 1]))\n",
        "\n",
        "    if self.transform:\n",
        "      image = self.transform(image)\n",
        "    \n",
        "    return (image, y_label)\n"
      ],
      "execution_count": 12,
      "outputs": []
    },
    {
      "cell_type": "code",
      "metadata": {
        "id": "CGRM8P5liu4D"
      },
      "source": [
        "T = transforms.Compose([\n",
        "    transforms.ToPILImage(),\n",
        "    transforms.Resize(255),\n",
        "    transforms.RandomCrop(224),\n",
        "    transforms.RandomHorizontalFlip(),\n",
        "    transforms.ToTensor(),\n",
        "    transforms.Normalize((0.5,0.5,0.5),(0.5,0.5,0.5)),\n",
        "])"
      ],
      "execution_count": 13,
      "outputs": []
    },
    {
      "cell_type": "code",
      "metadata": {
        "id": "9MgnNHUdG-4Q"
      },
      "source": [
        "\n",
        "\n",
        "dataset = CatsAndDogsDataset(csv_file = '/content/train.csv',\n",
        "                             root_dir = '/content/train', \n",
        "                             transform = T\n",
        "                            )"
      ],
      "execution_count": 14,
      "outputs": []
    },
    {
      "cell_type": "code",
      "metadata": {
        "id": "I3Pq-ZgGWc7b"
      },
      "source": [
        "def imshow(img, title):\n",
        "    img = img / 2 + 0.5\n",
        "    npimg = img.numpy()\n",
        "    plt.imshow(np.transpose(npimg, (1, 2, 0)))\n",
        "    if title == 1:\n",
        "      plt.title(\"dog\")\n",
        "    else:\n",
        "      plt.title('cat')\n",
        "    plt.show()\n"
      ],
      "execution_count": 15,
      "outputs": []
    },
    {
      "cell_type": "code",
      "metadata": {
        "id": "wOI4xe_iX-OK"
      },
      "source": [
        "dataiter = iter(dataset)"
      ],
      "execution_count": 16,
      "outputs": []
    },
    {
      "cell_type": "code",
      "metadata": {
        "id": "KdsDFT45ZP2v",
        "outputId": "155e94e0-70b4-4185-a6bc-1c14eed652b6",
        "colab": {
          "base_uri": "https://localhost:8080/",
          "height": 281
        }
      },
      "source": [
        "img, label = next(dataiter)\n",
        "imshow(img, label)"
      ],
      "execution_count": 17,
      "outputs": [
        {
          "output_type": "display_data",
          "data": {
            "image/png": "[encoded data removed]",
            "text/plain": [
              "<Figure size 432x288 with 1 Axes>"
            ]
          },
          "metadata": {
            "tags": [],
            "needs_background": "light"
          }
        }
      ]
    },
    {
      "cell_type": "code",
      "metadata": {
        "id": "GeeAHceNaAIu"
      },
      "source": [
        "train_set , test_set = torch.utils.data.random_split(dataset, [20000, 4999])"
      ],
      "execution_count": 19,
      "outputs": []
    },
    {
      "cell_type": "code",
      "metadata": {
        "id": "gfux9veuZ3at"
      },
      "source": [
        "train_loader = DataLoader(dataset = train_set, batch_size = 64, shuffle = True)\n",
        "test_loader = DataLoader(dataset = test_set, batch_size = 64, shuffle = False)"
      ],
      "execution_count": 20,
      "outputs": []
    },
    {
      "cell_type": "markdown",
      "metadata": {
        "id": "-AwSWM8CbGiW"
      },
      "source": [
        "# Create Neural Network"
      ]
    },
    {
      "cell_type": "code",
      "metadata": {
        "id": "twjOtXbXceBG"
      },
      "source": [
        "# nn_out = floor((n_in + 2p - k)/s) + 1"
      ],
      "execution_count": 21,
      "outputs": []
    },
    {
      "cell_type": "code",
      "metadata": {
        "id": "XqlW0aTibFS-"
      },
      "source": [
        "# image size = 224 x 224\n",
        "\n",
        "class ConvNet(nn.Module):\n",
        "  def __init__(self):\n",
        "    super(ConvNet, self).__init__()\n",
        "\n",
        "    self.conv1 = nn.Conv2d(in_channels=3,       # 224 x 224 -> 222 x 222\n",
        "                           out_channels = 64,\n",
        "                           kernel_size = 3)\n",
        "    self.maxpool1 = nn.MaxPool2d(kernel_size=2)   # 222 x 222 -> 111 x 111\n",
        "    self.batchnorm1 = nn.BatchNorm2d(64)\n",
        "    self.dropout1 = nn.Dropout(p = 0.5)\n",
        "\n",
        "    self.conv2 = nn.Conv2d(in_channels = 64,         # 111 x 111 -> 106 x 106\n",
        "                           out_channels = 128,\n",
        "                           kernel_size = 5)\n",
        "    self.maxpool2 = nn.MaxPool2d(kernel_size = 2)  # 106 x 106 -> 53 x 53\n",
        "    self.batchnorm2 = nn.BatchNorm2d(128)\n",
        "    self.dropout2 = nn.Dropout(p = 0.3)\n",
        "\n",
        "    self.conv3 = nn.Conv2d(in_channels = 128,     # 53 x 53 -> 46 x 46\n",
        "                           out_channels = 256,\n",
        "                           kernel_size = 7)\n",
        "    self.maxpool3 = nn.MaxPool2d(kernel_size=2)  # 46 x 46 -> 23 x 23\n",
        "    self.batchnorm3 = nn.BatchNorm2d(256)\n",
        "    self.dropout3 = nn.Dropout(p = 0.2)\n",
        "\n",
        "    self.fc1 = nn.Linear(256*23*23, 1000)\n",
        "    self.dropout4 = nn.Dropout(p = 0.1)\n",
        "\n",
        "    self.fc2 = nn.Linear(1000, 2)\n",
        "\n",
        "  def forward(self, x):\n",
        "    x = self.conv1(x)\n",
        "    x = F.relu(x)\n",
        "    x = self.maxpool1(x)\n",
        "    x = self.batchnorm1(x)\n",
        "    x = self.dropout1(x)\n",
        "   \n",
        "\n",
        "    x = self.conv2(x)\n",
        "    x = F.relu(x)\n",
        "    x = self.maxpool2(x)\n",
        "    x = self.batchnorm2(x)\n",
        "    x = self.dropout2(x)\n",
        "   \n",
        "\n",
        "    x = self.conv3(x)\n",
        "    x = F.relu(x)\n",
        "    x = self.maxpool3(x)\n",
        "    x = self.batchnorm3(x)\n",
        "    x = self.dropout3(x)\n",
        "  \n",
        "    x = x.reshape(x.size(0), -1)\n",
        "    x = self.fc1(x)\n",
        "    x = self.dropout4(x)\n",
        "    x = F.relu(x)\n",
        "    x = self.fc2(x)\n",
        " \n",
        "    return F.log_softmax(x,1)\n"
      ],
      "execution_count": 22,
      "outputs": []
    },
    {
      "cell_type": "code",
      "metadata": {
        "id": "RFLhfG-ae18O"
      },
      "source": [
        "model = ConvNet()"
      ],
      "execution_count": 23,
      "outputs": []
    },
    {
      "cell_type": "code",
      "metadata": {
        "id": "xyzcctve79Pw",
        "outputId": "1628ba82-8183-42f9-f145-2a1e9e3c38c7",
        "colab": {
          "base_uri": "https://localhost:8080/"
        }
      },
      "source": [
        "model"
      ],
      "execution_count": 24,
      "outputs": [
        {
          "output_type": "execute_result",
          "data": {
            "text/plain": [
              "ConvNet(\n",
              "  (conv1): Conv2d(3, 64, kernel_size=(3, 3), stride=(1, 1))\n",
              "  (maxpool1): MaxPool2d(kernel_size=2, stride=2, padding=0, dilation=1, ceil_mode=False)\n",
              "  (batchnorm1): BatchNorm2d(64, eps=1e-05, momentum=0.1, affine=True, track_running_stats=True)\n",
              "  (dropout1): Dropout(p=0.5, inplace=False)\n",
              "  (conv2): Conv2d(64, 128, kernel_size=(5, 5), stride=(1, 1))\n",
              "  (maxpool2): MaxPool2d(kernel_size=2, stride=2, padding=0, dilation=1, ceil_mode=False)\n",
              "  (batchnorm2): BatchNorm2d(128, eps=1e-05, momentum=0.1, affine=True, track_running_stats=True)\n",
              "  (dropout2): Dropout(p=0.3, inplace=False)\n",
              "  (conv3): Conv2d(128, 256, kernel_size=(7, 7), stride=(1, 1))\n",
              "  (maxpool3): MaxPool2d(kernel_size=2, stride=2, padding=0, dilation=1, ceil_mode=False)\n",
              "  (batchnorm3): BatchNorm2d(256, eps=1e-05, momentum=0.1, affine=True, track_running_stats=True)\n",
              "  (dropout3): Dropout(p=0.2, inplace=False)\n",
              "  (fc1): Linear(in_features=135424, out_features=1000, bias=True)\n",
              "  (dropout4): Dropout(p=0.1, inplace=False)\n",
              "  (fc2): Linear(in_features=1000, out_features=2, bias=True)\n",
              ")"
            ]
          },
          "metadata": {
            "tags": []
          },
          "execution_count": 24
        }
      ]
    },
    {
      "cell_type": "code",
      "metadata": {
        "id": "Qv5jumrFfonM"
      },
      "source": [
        "# HyperParameters\n",
        "n_epochs = 10\n",
        "lr = 0.001\n"
      ],
      "execution_count": 25,
      "outputs": []
    },
    {
      "cell_type": "code",
      "metadata": {
        "id": "qu2M3HVQaZM9",
        "outputId": "0e5f4e44-9067-4b44-d9ee-a50ba3b2003e",
        "colab": {
          "base_uri": "https://localhost:8080/"
        }
      },
      "source": [
        "model.to('cuda')"
      ],
      "execution_count": 26,
      "outputs": [
        {
          "output_type": "execute_result",
          "data": {
            "text/plain": [
              "ConvNet(\n",
              "  (conv1): Conv2d(3, 64, kernel_size=(3, 3), stride=(1, 1))\n",
              "  (maxpool1): MaxPool2d(kernel_size=2, stride=2, padding=0, dilation=1, ceil_mode=False)\n",
              "  (batchnorm1): BatchNorm2d(64, eps=1e-05, momentum=0.1, affine=True, track_running_stats=True)\n",
              "  (dropout1): Dropout(p=0.5, inplace=False)\n",
              "  (conv2): Conv2d(64, 128, kernel_size=(5, 5), stride=(1, 1))\n",
              "  (maxpool2): MaxPool2d(kernel_size=2, stride=2, padding=0, dilation=1, ceil_mode=False)\n",
              "  (batchnorm2): BatchNorm2d(128, eps=1e-05, momentum=0.1, affine=True, track_running_stats=True)\n",
              "  (dropout2): Dropout(p=0.3, inplace=False)\n",
              "  (conv3): Conv2d(128, 256, kernel_size=(7, 7), stride=(1, 1))\n",
              "  (maxpool3): MaxPool2d(kernel_size=2, stride=2, padding=0, dilation=1, ceil_mode=False)\n",
              "  (batchnorm3): BatchNorm2d(256, eps=1e-05, momentum=0.1, affine=True, track_running_stats=True)\n",
              "  (dropout3): Dropout(p=0.2, inplace=False)\n",
              "  (fc1): Linear(in_features=135424, out_features=1000, bias=True)\n",
              "  (dropout4): Dropout(p=0.1, inplace=False)\n",
              "  (fc2): Linear(in_features=1000, out_features=2, bias=True)\n",
              ")"
            ]
          },
          "metadata": {
            "tags": []
          },
          "execution_count": 26
        }
      ]
    },
    {
      "cell_type": "code",
      "metadata": {
        "id": "vpCGaXQu9Jfn"
      },
      "source": [
        "\n",
        "cec_loss = nn.CrossEntropyLoss()\n",
        "params = model.parameters()\n",
        "optimizer = optim.Adam(params = params, lr = 0.001)\n",
        "\n",
        "n_epochs = 3\n",
        "n_iterations = 0"
      ],
      "execution_count": 27,
      "outputs": []
    },
    {
      "cell_type": "code",
      "metadata": {
        "id": "lYy3y6FIUgBS"
      },
      "source": [
        "def train_net(model, n_epochs, train_loader):\n",
        "  if torch.cuda.is_available():\n",
        "    device = \"cuda\"\n",
        "  else:\n",
        "    device = \"cpu\"\n",
        "  print(f'now running on {device}')\n",
        "  model.to(device)\n",
        "  #model.train()\n",
        " \n",
        "  loss_over_time = []\n",
        "\n",
        "  for epoch in range(n_epochs):\n",
        "    running_loss = 0.0\n",
        "    loop = tqdm(enumerate(train_loader), total = len(train_loader), leave = True)\n",
        "    for batch_i, (images, labels) in loop:\n",
        "      IMAGES = Variable(images).to(device)\n",
        "      LABELS = Variable(labels).to(device)\n",
        "\n",
        "      \n",
        "      model.zero_grad()\n",
        "      output = model(IMAGES)\n",
        "\n",
        "      loss = cec_loss(output, LABELS)\n",
        "\n",
        "      loss.backward()\n",
        "\n",
        "      optimizer.step()\n",
        "\n",
        "      running_loss += loss.item()\n",
        "      total = 0\n",
        "      correct = 0\n",
        "      if batch_i % 10 == 9:\n",
        "        avg_loss = running_loss/10\n",
        "        loss_over_time.append(avg_loss)\n",
        "\n",
        "        _, predicted = torch.max(output.data, 1)\n",
        "        total += LABELS.size(0)\n",
        "        correct += (predicted == LABELS).sum().item()\n",
        "\n",
        "        # update progress bar\n",
        "        accuracy = 100*(correct/total)\n",
        "        loop.set_description(f'Epoch [{epoch}/{n_epochs}]')\n",
        "        loop.set_postfix(loss = loss.item(), acc=accuracy)\n",
        "\n",
        "        #print(f'Epoch {epoch + 1}, Batch Index: {batch_i +1}, Accuracy: {100*(correct/total)}, Avg. Loss: {avg_loss}')\n",
        "        running_loss = 0.0\n",
        "\n",
        "  print(\"Finished Training\")\n",
        "  return loss_over_time"
      ],
      "execution_count": 40,
      "outputs": []
    },
    {
      "cell_type": "code",
      "metadata": {
        "id": "me5NE2_GWaR3",
        "outputId": "398bd0d4-1527-470b-eec8-0b0c58e2eef2",
        "colab": {
          "base_uri": "https://localhost:8080/",
          "height": 204,
          "referenced_widgets": [
            "dc4cdb47f4fd4d48a7bd985c639c56e4",
            "42fe76c0e08e405a958f5d59e63c5029",
            "0c7cda35a1864a509b1195af15bc78da",
            "fda468db144645a5879627ecd069e031",
            "8dde4d4b26994cf696ff7fc3fa50c921",
            "bcf658ba6f0b4dd89648a4d40967972c",
            "3e55a89035d54f219ca7908d0c78ece3",
            "0f71e546facd4d859578e7244aec693b",
            "224f034327814a6d9e704f03d6e20ea1",
            "017d0526d2e54873bd93f89fe7728752",
            "9db45894c90b4741a2eea8fa07d64199",
            "cedd1d4860914aea92bf3ca7866a7dac",
            "3b61fa17f2af404a9e65de593b0ad376",
            "87e30b73060f4ad88a35e5dd2c0430e8",
            "99a9e48dc1054e0f8b000a2e8b20fe08",
            "284d211b5dbb42ed9a561d59d09e124f",
            "65bf8a630cab4d56aee02899bf29461c",
            "297621e61ac2416f8d99a739f5402406",
            "a40f53c0f79c4217b0ff2bcdf9cc460a",
            "20bf37a43ce147baa4d8d0d5d3bbcf28",
            "2635f693957d43b9bce9618a78de5da8",
            "b2a7cf9931e14be8bb3fd5797e2953d1",
            "7a57f32575e4428e9604922f76e63ef5",
            "05ca54ac1d9547e29094b08926a26d20"
          ]
        }
      },
      "source": [
        "n_epochs = 3\n",
        "\n",
        "\n",
        "training_loss = train_net(model, n_epochs, train_loader)"
      ],
      "execution_count": 41,
      "outputs": [
        {
          "output_type": "stream",
          "text": [
            "now running on cuda\n"
          ],
          "name": "stdout"
        },
        {
          "output_type": "display_data",
          "data": {
            "application/vnd.jupyter.widget-view+json": {
              "model_id": "dc4cdb47f4fd4d48a7bd985c639c56e4",
              "version_minor": 0,
              "version_major": 2
            },
            "text/plain": [
              "HBox(children=(FloatProgress(value=0.0, max=313.0), HTML(value='')))"
            ]
          },
          "metadata": {
            "tags": []
          }
        },
        {
          "output_type": "stream",
          "text": [
            "\n"
          ],
          "name": "stdout"
        },
        {
          "output_type": "display_data",
          "data": {
            "application/vnd.jupyter.widget-view+json": {
              "model_id": "224f034327814a6d9e704f03d6e20ea1",
              "version_minor": 0,
              "version_major": 2
            },
            "text/plain": [
              "HBox(children=(FloatProgress(value=0.0, max=313.0), HTML(value='')))"
            ]
          },
          "metadata": {
            "tags": []
          }
        },
        {
          "output_type": "stream",
          "text": [
            "\n"
          ],
          "name": "stdout"
        },
        {
          "output_type": "display_data",
          "data": {
            "application/vnd.jupyter.widget-view+json": {
              "model_id": "65bf8a630cab4d56aee02899bf29461c",
              "version_minor": 0,
              "version_major": 2
            },
            "text/plain": [
              "HBox(children=(FloatProgress(value=0.0, max=313.0), HTML(value='')))"
            ]
          },
          "metadata": {
            "tags": []
          }
        },
        {
          "output_type": "stream",
          "text": [
            "\n",
            "Finished Training\n"
          ],
          "name": "stdout"
        }
      ]
    },
    {
      "cell_type": "markdown",
      "metadata": {
        "id": "oaDpKEQix695"
      },
      "source": [
        "# Testing"
      ]
    },
    {
      "cell_type": "code",
      "metadata": {
        "id": "fQ9A082Ox5Cs"
      },
      "source": [
        "test_zip_path = '/content/test1.zip'\n",
        "\n",
        "test_zip = ZipFile(test_zip_path, 'r')\n",
        "test_zip.extractall()"
      ],
      "execution_count": 42,
      "outputs": []
    },
    {
      "cell_type": "code",
      "metadata": {
        "id": "qZrl2egWyJhK"
      },
      "source": [
        "test_path = '/content/test1'"
      ],
      "execution_count": 43,
      "outputs": []
    },
    {
      "cell_type": "code",
      "metadata": {
        "id": "tqzaffXxyQjH"
      },
      "source": [
        "torch.save(model.state_dict(), '/content/CNN.pt')"
      ],
      "execution_count": 44,
      "outputs": []
    },
    {
      "cell_type": "code",
      "metadata": {
        "id": "Gkrcu17-zpeT"
      },
      "source": [
        "test_images = iter(os.listdir(test_path))\n"
      ],
      "execution_count": 45,
      "outputs": []
    },
    {
      "cell_type": "code",
      "metadata": {
        "id": "utDLiQTB0SEK",
        "outputId": "00c9764d-d871-4f89-8769-06fb4847ee72",
        "colab": {
          "base_uri": "https://localhost:8080/"
        }
      },
      "source": [
        "print(T)"
      ],
      "execution_count": 49,
      "outputs": [
        {
          "output_type": "stream",
          "text": [
            "Compose(\n",
            "    ToPILImage()\n",
            "    Resize(size=255, interpolation=PIL.Image.BILINEAR)\n",
            "    RandomCrop(size=(224, 224), padding=None)\n",
            "    RandomHorizontalFlip(p=0.5)\n",
            "    ToTensor()\n",
            "    Normalize(mean=(0.5, 0.5, 0.5), std=(0.5, 0.5, 0.5))\n",
            ")\n"
          ],
          "name": "stdout"
        }
      ]
    },
    {
      "cell_type": "code",
      "metadata": {
        "id": "zQWjok0j0E5G"
      },
      "source": [
        "def randshow(root, image_path):\n",
        "    model.to('cpu')\n",
        "    \n",
        "    path = os.path.join(root, image_path)\n",
        "    img = io.imread(path)\n",
        "    img = T(img)\n",
        "    img = img.unsqueeze(0)\n",
        "\n",
        "    results = model(img)\n",
        "    img = img / 2 + 0.5\n",
        "    npimg = img.numpy()\n",
        "    disp_img = np.transpose(npimg, (2,3,1,0))\n",
        "\n",
        "    disp_img = disp_img.reshape(224,224,3)\n",
        "   \n",
        "    plt.imshow(disp_img)\n",
        "    \n",
        "    result = results.argmax().item()\n",
        "\n",
        "    title = 'Behold a majestic cat' if result == 0 else 'behold a majestic dog'\n",
        "    \n",
        "    plt.title(title)\n",
        "    plt.show()\n",
        "    return"
      ],
      "execution_count": 122,
      "outputs": []
    },
    {
      "cell_type": "code",
      "metadata": {
        "id": "LzsPTaKBz6pJ",
        "outputId": "22142c53-e2b0-4bf8-8d9a-d1a09ce71963",
        "colab": {
          "base_uri": "https://localhost:8080/",
          "height": 281
        }
      },
      "source": [
        "randshow('/content/test1', next(test_images))"
      ],
      "execution_count": 155,
      "outputs": [
        {
          "output_type": "display_data",
          "data": {
            "image/png": "[encoded data removed]",
            "text/plain": [
              "<Figure size 432x288 with 1 Axes>"
            ]
          },
          "metadata": {
            "tags": [],
            "needs_background": "light"
          }
        }
      ]
    }
  ]
}